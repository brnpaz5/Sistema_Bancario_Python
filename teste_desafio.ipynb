{
 "cells": [
  {
   "cell_type": "code",
   "execution_count": 5,
   "metadata": {},
   "outputs": [
    {
     "name": "stdout",
     "output_type": "stream",
     "text": [
      "780, 65.00\n"
     ]
    }
   ],
   "source": [
    "def analise_vendas(vendas):\n",
    "    # TODO: Calcule o total de vendas e realize a média mensal:\n",
    "    \n",
    "    n_elementos = len(vendas)\n",
    "    total_vendas = sum(vendas)\n",
    "    media_vendas = total_vendas / n_elementos\n",
    "    \n",
    "    return f\"{total_vendas}, {media_vendas:.2f}\"\n",
    "\n",
    "def obter_entrada_vendas():\n",
    "    # Solicita a entrada do usuário em uma única linha\n",
    "    entrada = input(\"Insira os valor na mesma linha separadas por virgula!\")\n",
    "    data = entrada.split(',')\n",
    "    \n",
    "    # TODO: Converta a entrada em uma lista de inteiros:\n",
    "    vendas = list(map(int, data))\n",
    "    \n",
    "    return vendas\n",
    "\n",
    "vendas = obter_entrada_vendas()\n",
    "print(analise_vendas(vendas))"
   ]
  },
  {
   "cell_type": "code",
   "execution_count": 6,
   "metadata": {},
   "outputs": [
    {
     "name": "stdout",
     "output_type": "stream",
     "text": [
      "Mouse\n"
     ]
    }
   ],
   "source": [
    "def produto_mais_vendido(produtos):\n",
    "    contagem = {}\n",
    "    \n",
    "    for produto in produtos:\n",
    "        if produto in contagem:\n",
    "            contagem[produto] += 1\n",
    "        else:\n",
    "            contagem[produto] = 1\n",
    "    \n",
    "    max_produto = None\n",
    "    max_count = 0\n",
    "    \n",
    "    for produto, count in contagem.items():\n",
    "        # TODO: Encontre o produto com a maior contagem:\n",
    "        if count > max_count:\n",
    "            max_count = count\n",
    "            max_produto = produto        \n",
    "    \n",
    "    return max_produto\n",
    "\n",
    "def obter_entrada_produtos():\n",
    "    # Solicita a entrada do usuário em uma única linha\n",
    "    entrada = input()\n",
    "    # TODO: Converta a entrada em uma lista de strings, removendo espaços extras:\n",
    "    dados = entrada.split(\",\")\n",
    "    produtos = []\n",
    "\n",
    "    for produto in dados:\n",
    "        produtos.append(produto.strip())\n",
    "\n",
    "    return produtos\n",
    "\n",
    "produtos = obter_entrada_produtos()\n",
    "print(produto_mais_vendido(produtos))"
   ]
  },
  {
   "cell_type": "code",
   "execution_count": 8,
   "metadata": {},
   "outputs": [
    {
     "ename": "NameError",
     "evalue": "name 'Foo' is not defined",
     "output_type": "error",
     "traceback": [
      "\u001b[1;31m---------------------------------------------------------------------------\u001b[0m",
      "\u001b[1;31mNameError\u001b[0m                                 Traceback (most recent call last)",
      "Cell \u001b[1;32mIn[8], line 4\u001b[0m\n\u001b[0;32m      1\u001b[0m \u001b[38;5;28;01mdef\u001b[39;00m \u001b[38;5;21mhello\u001b[39m(\u001b[38;5;28mself\u001b[39m): \n\u001b[0;32m      2\u001b[0m     \u001b[38;5;28mprint\u001b[39m(\u001b[38;5;28mself\u001b[39m\u001b[38;5;241m.\u001b[39m\u001b[38;5;18m__class__\u001b[39m\u001b[38;5;241m.\u001b[39m\u001b[38;5;18m__name__\u001b[39m\u001b[38;5;241m.\u001b[39mlower()) \n\u001b[1;32m----> 4\u001b[0m \u001b[38;5;28;01mclass\u001b[39;00m \u001b[38;5;21;01mBar\u001b[39;00m(\u001b[43mFoo\u001b[49m): \n\u001b[0;32m      5\u001b[0m     \u001b[38;5;28;01mdef\u001b[39;00m \u001b[38;5;21mhello\u001b[39m(\u001b[38;5;28mself\u001b[39m): \u001b[38;5;28;01mreturn\u001b[39;00m \u001b[38;5;28msuper\u001b[39m()\u001b[38;5;241m.\u001b[39mhello() \n\u001b[0;32m      7\u001b[0m bar \u001b[38;5;241m=\u001b[39m Bar() \n",
      "\u001b[1;31mNameError\u001b[0m: name 'Foo' is not defined"
     ]
    }
   ],
   "source": [
    "def hello(self): \n",
    "    print(self.__class__.__name__.lower()) \n",
    "\n",
    "class Bar(Foo): \n",
    "    def hello(self): return super().hello() \n",
    "\n",
    "bar = Bar() \n",
    "bar.hello()"
   ]
  },
  {
   "cell_type": "code",
   "execution_count": 13,
   "metadata": {},
   "outputs": [],
   "source": [
    "class rodas:\n",
    "    def __init__(self, cor, modelo, ano, valor):\n",
    "        self.cor = cor\n",
    "        self.modelo = modelo\n",
    "        self.ano = ano\n",
    "        self.valor = valor\n",
    "\n",
    "    def buzinar(self):\n",
    "        print(\"Buzina\")\n",
    "    \n",
    "    def parar(self):\n",
    "        print(\"Parado\")\n",
    "    \n",
    "    def correr(self):\n",
    "        print(\"Correr\")\n",
    "\n",
    "\n",
    "class bike(rodas):\n",
    "    def __init__(self, freio):\n",
    "        self.freio = freio\n",
    "\n",
    "    def pedalar(self):\n",
    "        print(\"pedalar\")"
   ]
  },
  {
   "cell_type": "code",
   "execution_count": 15,
   "metadata": {},
   "outputs": [
    {
     "name": "stdout",
     "output_type": "stream",
     "text": [
      "Buzina\n"
     ]
    }
   ],
   "source": [
    "el = bike('Disco')\n",
    "\n",
    "el.buzinar()"
   ]
  },
  {
   "cell_type": "code",
   "execution_count": 17,
   "metadata": {},
   "outputs": [
    {
     "ename": "AttributeError",
     "evalue": "'bike' object has no attribute 'ano'",
     "output_type": "error",
     "traceback": [
      "\u001b[1;31m---------------------------------------------------------------------------\u001b[0m",
      "\u001b[1;31mAttributeError\u001b[0m                            Traceback (most recent call last)",
      "Cell \u001b[1;32mIn[17], line 1\u001b[0m\n\u001b[1;32m----> 1\u001b[0m \u001b[43mel\u001b[49m\u001b[38;5;241;43m.\u001b[39;49m\u001b[43mano\u001b[49m\n",
      "\u001b[1;31mAttributeError\u001b[0m: 'bike' object has no attribute 'ano'"
     ]
    }
   ],
   "source": [
    "el.ano"
   ]
  },
  {
   "cell_type": "code",
   "execution_count": null,
   "metadata": {},
   "outputs": [],
   "source": []
  }
 ],
 "metadata": {
  "kernelspec": {
   "display_name": "Python 3",
   "language": "python",
   "name": "python3"
  },
  "language_info": {
   "codemirror_mode": {
    "name": "ipython",
    "version": 3
   },
   "file_extension": ".py",
   "mimetype": "text/x-python",
   "name": "python",
   "nbconvert_exporter": "python",
   "pygments_lexer": "ipython3",
   "version": "3.11.2"
  }
 },
 "nbformat": 4,
 "nbformat_minor": 2
}
